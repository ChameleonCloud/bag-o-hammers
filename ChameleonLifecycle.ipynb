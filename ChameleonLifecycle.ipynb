{
 "cells": [
  {
   "cell_type": "code",
   "execution_count": 347,
   "metadata": {
    "collapsed": false,
    "deletable": true,
    "editable": true
   },
   "outputs": [],
   "source": [
    "import base64\n",
    "import datetime\n",
    "import json\n",
    "import numbers\n",
    "import secrets\n",
    "\n",
    "from dateutil import tz\n",
    "\n",
    "from blazarclient.client import Client as _BlazarClient # installed from github\n",
    "from heatclient.client import Client as HeatClient\n",
    "import keystoneauth1 as ksa\n",
    "import keystoneauth1.loading\n",
    "import keystoneauth1.session\n",
    "from novaclient.client import Client as NovaClient\n",
    "from novaclient import exceptions as novaexceptions\n",
    "\n",
    "from hammers import osapi"
   ]
  },
  {
   "cell_type": "code",
   "execution_count": 3,
   "metadata": {
    "collapsed": true,
    "deletable": true,
    "editable": true
   },
   "outputs": [],
   "source": [
    "def auth_from_rc(rc):\n",
    "    \"\"\"\n",
    "    Fun with naming schemes:    \n",
    "    * envvar name:          OS_AUTH_URL\n",
    "    * loader option name:      auth-url\n",
    "    * loader argument name:    auth_url\n",
    "    \"\"\"\n",
    "    rc_opt_keymap = {key[3:].lower().replace('_', '-'): key for key in rc}\n",
    "    loader = ksa.loading.get_plugin_loader('password')\n",
    "    credentials = {}\n",
    "    for opt in loader.get_options():\n",
    "        if opt.name not in rc_opt_keymap:\n",
    "            continue\n",
    "        credentials[opt.name.replace('-', '_')] = rc[rc_opt_keymap[opt.name]]\n",
    "    auth = loader.load_from_options(**credentials)\n",
    "    return auth"
   ]
  },
  {
   "cell_type": "code",
   "execution_count": 4,
   "metadata": {
    "collapsed": false,
    "deletable": true,
    "editable": true,
    "scrolled": true
   },
   "outputs": [
    {
     "name": "stdout",
     "output_type": "stream",
     "text": [
      "Enter your password: ········\n"
     ]
    }
   ],
   "source": [
    "rc = osapi.load_osrc('../rc/chi.tacc.rc', get_pass=True)\n",
    "sess = ksa.session.Session(auth=auth_from_rc(rc))"
   ]
  },
  {
   "cell_type": "code",
   "execution_count": 167,
   "metadata": {
    "collapsed": false,
    "deletable": true,
    "editable": true
   },
   "outputs": [
    {
     "data": {
      "text/plain": [
       "<keystoneauth1.identity.generic.password.Password at 0x1033f0f60>"
      ]
     },
     "execution_count": 167,
     "metadata": {},
     "output_type": "execute_result"
    }
   ],
   "source": []
  },
  {
   "cell_type": "code",
   "execution_count": 30,
   "metadata": {
    "collapsed": true,
    "deletable": true,
    "editable": true
   },
   "outputs": [],
   "source": [
    "def blazar_client_builder(session):\n",
    "    bc = BlazarClient('1', \n",
    "        blazar_url=session.get_endpoint(service_type='reservation'), \n",
    "        auth_token=session.get_token(),\n",
    "    )\n",
    "    return bc"
   ]
  },
  {
   "cell_type": "code",
   "execution_count": 9,
   "metadata": {
    "collapsed": false,
    "deletable": true,
    "editable": true
   },
   "outputs": [],
   "source": [
    "nc = NovaClient('2', session=sess)"
   ]
  },
  {
   "cell_type": "code",
   "execution_count": 173,
   "metadata": {
    "collapsed": false,
    "deletable": true,
    "editable": true
   },
   "outputs": [],
   "source": [
    "bc = blazar_client_builder(sess)"
   ]
  },
  {
   "cell_type": "code",
   "execution_count": 14,
   "metadata": {
    "collapsed": false,
    "deletable": true,
    "editable": true
   },
   "outputs": [
    {
     "data": {
      "text/plain": [
       "'image-builder-LHBNMGV754'"
      ]
     },
     "execution_count": 14,
     "metadata": {},
     "output_type": "execute_result"
    }
   ],
   "source": [
    "name = 'image-builder-{}'.format(base64.b32encode(secrets.token_bytes(6)).decode('ascii').strip('='))\n",
    "name"
   ]
  },
  {
   "cell_type": "markdown",
   "metadata": {
    "collapsed": true,
    "deletable": true,
    "editable": true
   },
   "source": [
    "```python\n",
    "physical_reservations = []\n",
    "for phys_res_str in parsed_args.physical_reservations:\n",
    "    err_msg = (\"Invalid physical-reservation argument '%s'. \"\n",
    "               \"Reservation arguments must be of the \"\n",
    "               \"form --physical-reservation <min=int,max=int,\"\n",
    "               \"hypervisor_properties=str,resource_properties=str>\"\n",
    "               % phys_res_str)\n",
    "    phys_res_info = {\"min\": \"\", \"max\": \"\", \"hypervisor_properties\": \"\",\n",
    "                     \"resource_properties\": \"\"}\n",
    "    prog = re.compile('^(\\w+)=(\\w+|\\[[^]]+\\])(?:,(.+))?$')\n",
    "\n",
    "    def parse_params(params):\n",
    "        match = prog.search(params)\n",
    "        if match:\n",
    "            self.log.info(\"Matches: %s\", match.groups())\n",
    "            k, v = match.group(1, 2)\n",
    "            if k in phys_res_info:\n",
    "                phys_res_info[k] = v\n",
    "            else:\n",
    "                raise exception.IncorrectLease(err_msg)\n",
    "            if len(match.groups()) == 3 and match.group(3) is not None:\n",
    "                parse_params(match.group(3))\n",
    "\n",
    "    parse_params(phys_res_str)\n",
    "    if not phys_res_info['min'] and not phys_res_info['max']:\n",
    "        raise exception.IncorrectLease(err_msg)\n",
    "    # NOTE(sbauza): The resource type should be conf-driven mapped with\n",
    "    #               blazar.conf file but that's potentially on another\n",
    "    #               host\n",
    "    phys_res_info['resource_type'] = 'physical:host'\n",
    "    physical_reservations.append(phys_res_info)\n",
    "if physical_reservations:\n",
    "    params['reservations'] += physical_reservations\n",
    "```"
   ]
  },
  {
   "cell_type": "code",
   "execution_count": 87,
   "metadata": {
    "collapsed": false,
    "deletable": true,
    "editable": true
   },
   "outputs": [],
   "source": [
    "BLAZAR_TIME_FORMAT = '%Y-%m-%d %H:%M'\n",
    "\n",
    "def random_base32(n_bytes):\n",
    "    tok = secrets.token_bytes(n_bytes)\n",
    "    return base64.b32encode(tok).decode('ascii').strip('=')\n",
    "\n",
    "def lease_create_args(name=None, start='now', length=60*60*24, nodes=1, resource_properties=''):\n",
    "    if name is None:\n",
    "        name = 'lease-{}'.format(random_base32(6))\n",
    "\n",
    "    if start == 'now':\n",
    "        start = datetime.datetime.now(tz=tz.tzutc()) + datetime.timedelta(seconds=70)\n",
    "    if isinstance(length, numbers.Number):\n",
    "        length = datetime.timedelta(seconds=length)\n",
    "    \n",
    "    end = start + length\n",
    "        \n",
    "    if resource_properties:\n",
    "        resource_properties = json.dumps(resource_properties)\n",
    "\n",
    "    reservations = [{\n",
    "        'resource_type': 'physical:host',\n",
    "        'resource_properties': resource_properties,\n",
    "        'hypervisor_properties': '',\n",
    "        'min': str(nodes), 'max': str(nodes),\n",
    "    }]\n",
    "        \n",
    "    query = {\n",
    "        'name': name,\n",
    "        'start': start.strftime(BLAZAR_TIME_FORMAT),\n",
    "        'end': end.strftime(BLAZAR_TIME_FORMAT), \n",
    "        'reservations': reservations,\n",
    "        'events': [],\n",
    "    }\n",
    "    return query"
   ]
  },
  {
   "cell_type": "code",
   "execution_count": 55,
   "metadata": {
    "collapsed": true,
    "deletable": true,
    "editable": true
   },
   "outputs": [],
   "source": [
    "node_types = {\n",
    "    'compute',\n",
    "    'compute_ib',\n",
    "    'storage',\n",
    "    'storage_hierarchy',\n",
    "    'gpu_p100',\n",
    "    'gpu_k80',\n",
    "    'gpu_m40',\n",
    "    'fpga',\n",
    "    'lowpower_xeon',\n",
    "    'atom',\n",
    "    'arm64',\n",
    "}\n",
    "\n",
    "def lease_create_nodetype(*args, **kwargs):\n",
    "    try:\n",
    "        node_type = kwargs.pop('node_type')\n",
    "    except KeyError:\n",
    "        raise ValueError('no node_type specified')\n",
    "    if node_type not in node_types:\n",
    "        raise ValueError('unknown node_type (\"{}\")'.format(node_type))\n",
    "    kwargs['resource_properties'] = ['=', '$node_type', node_type]\n",
    "    return lease_create_args(*args, **kwargs)"
   ]
  },
  {
   "cell_type": "code",
   "execution_count": 171,
   "metadata": {
    "collapsed": false,
    "deletable": true,
    "editable": true
   },
   "outputs": [
    {
     "data": {
      "text/plain": [
       "{'end': '2017-04-07 15:19',\n",
       " 'events': [],\n",
       " 'name': 'lease-OMZXGUT33Y',\n",
       " 'reservations': [{'hypervisor_properties': '',\n",
       "   'max': '1',\n",
       "   'min': '1',\n",
       "   'resource_properties': '[\"=\", \"$node_type\", \"compute\"]',\n",
       "   'resource_type': 'physical:host'}],\n",
       " 'start': '2017-04-06 15:19'}"
      ]
     },
     "execution_count": 171,
     "metadata": {},
     "output_type": "execute_result"
    }
   ],
   "source": [
    "args = lease_create_nodetype(node_type='compute')\n",
    "args"
   ]
  },
  {
   "cell_type": "code",
   "execution_count": 174,
   "metadata": {
    "collapsed": false,
    "deletable": true,
    "editable": true
   },
   "outputs": [],
   "source": [
    "my_lease = bc.lease.create(**args)"
   ]
  },
  {
   "cell_type": "code",
   "execution_count": 182,
   "metadata": {
    "collapsed": false,
    "deletable": true,
    "editable": true,
    "scrolled": false
   },
   "outputs": [],
   "source": [
    "my_lease = bc.lease.get(my_lease['id'])#['status_reason']"
   ]
  },
  {
   "cell_type": "code",
   "execution_count": 187,
   "metadata": {
    "collapsed": false,
    "deletable": true,
    "editable": true
   },
   "outputs": [
    {
     "data": {
      "text/plain": [
       "True"
      ]
     },
     "execution_count": 187,
     "metadata": {},
     "output_type": "execute_result"
    }
   ],
   "source": [
    "my_lease['action'], my_lease['status'] == ('START', 'COMPLETE')"
   ]
  },
  {
   "cell_type": "code",
   "execution_count": 180,
   "metadata": {
    "collapsed": false,
    "deletable": true,
    "editable": true
   },
   "outputs": [
    {
     "data": {
      "text/plain": [
       "'813b3c03-8e71-41ec-80e3-94243ea805ee'"
      ]
     },
     "execution_count": 180,
     "metadata": {},
     "output_type": "execute_result"
    }
   ],
   "source": [
    "my_lease['id']"
   ]
  },
  {
   "cell_type": "code",
   "execution_count": 161,
   "metadata": {
    "collapsed": false,
    "deletable": true,
    "editable": true,
    "scrolled": true
   },
   "outputs": [
    {
     "data": {
      "text/plain": [
       "<Image: CC-CentOS7>"
      ]
     },
     "execution_count": 161,
     "metadata": {},
     "output_type": "execute_result"
    }
   ],
   "source": [
    "nc.images.find(name='CC-CentOS7')"
   ]
  },
  {
   "cell_type": "code",
   "execution_count": 162,
   "metadata": {
    "collapsed": false,
    "deletable": true,
    "editable": true,
    "scrolled": true
   },
   "outputs": [
    {
     "ename": "NotFound",
     "evalue": "No Image matching {'id': 'CC-CentOS7'}. (HTTP 404)",
     "output_type": "error",
     "traceback": [
      "\u001b[0;31m---------------------------------------------------------------------------\u001b[0m",
      "\u001b[0;31mNotFound\u001b[0m                                  Traceback (most recent call last)",
      "\u001b[0;32m<ipython-input-162-cd7a6060c744>\u001b[0m in \u001b[0;36m<module>\u001b[0;34m()\u001b[0m\n\u001b[0;32m----> 1\u001b[0;31m \u001b[0mnc\u001b[0m\u001b[0;34m.\u001b[0m\u001b[0mimages\u001b[0m\u001b[0;34m.\u001b[0m\u001b[0mfind\u001b[0m\u001b[0;34m(\u001b[0m\u001b[0mid\u001b[0m\u001b[0;34m=\u001b[0m\u001b[0;34m'CC-CentOS7'\u001b[0m\u001b[0;34m)\u001b[0m\u001b[0;34m\u001b[0m\u001b[0m\n\u001b[0m",
      "\u001b[0;32m/Users/npt/.pyenv/versions/os36/lib/python3.6/site-packages/novaclient/base.py\u001b[0m in \u001b[0;36mfind\u001b[0;34m(self, **kwargs)\u001b[0m\n\u001b[1;32m    414\u001b[0m         \u001b[0;32mif\u001b[0m \u001b[0mnum_matches\u001b[0m \u001b[0;34m==\u001b[0m \u001b[0;36m0\u001b[0m\u001b[0;34m:\u001b[0m\u001b[0;34m\u001b[0m\u001b[0m\n\u001b[1;32m    415\u001b[0m             \u001b[0mmsg\u001b[0m \u001b[0;34m=\u001b[0m \u001b[0;34m\"No %s matching %s.\"\u001b[0m \u001b[0;34m%\u001b[0m \u001b[0;34m(\u001b[0m\u001b[0mself\u001b[0m\u001b[0;34m.\u001b[0m\u001b[0mresource_class\u001b[0m\u001b[0;34m.\u001b[0m\u001b[0m__name__\u001b[0m\u001b[0;34m,\u001b[0m \u001b[0mkwargs\u001b[0m\u001b[0;34m)\u001b[0m\u001b[0;34m\u001b[0m\u001b[0m\n\u001b[0;32m--> 416\u001b[0;31m             \u001b[0;32mraise\u001b[0m \u001b[0mexceptions\u001b[0m\u001b[0;34m.\u001b[0m\u001b[0mNotFound\u001b[0m\u001b[0;34m(\u001b[0m\u001b[0;36m404\u001b[0m\u001b[0;34m,\u001b[0m \u001b[0mmsg\u001b[0m\u001b[0;34m)\u001b[0m\u001b[0;34m\u001b[0m\u001b[0m\n\u001b[0m\u001b[1;32m    417\u001b[0m         \u001b[0;32melif\u001b[0m \u001b[0mnum_matches\u001b[0m \u001b[0;34m>\u001b[0m \u001b[0;36m1\u001b[0m\u001b[0;34m:\u001b[0m\u001b[0;34m\u001b[0m\u001b[0m\n\u001b[1;32m    418\u001b[0m             \u001b[0;32mraise\u001b[0m \u001b[0mexceptions\u001b[0m\u001b[0;34m.\u001b[0m\u001b[0mNoUniqueMatch\u001b[0m\u001b[0;34m\u001b[0m\u001b[0m\n",
      "\u001b[0;31mNotFound\u001b[0m: No Image matching {'id': 'CC-CentOS7'}. (HTTP 404)"
     ]
    }
   ],
   "source": [
    "nc.images.find(id='CC-CentOS7')"
   ]
  },
  {
   "cell_type": "code",
   "execution_count": 163,
   "metadata": {
    "collapsed": true,
    "deletable": true,
    "editable": true
   },
   "outputs": [],
   "source": [
    "import novaclient"
   ]
  },
  {
   "cell_type": "code",
   "execution_count": 193,
   "metadata": {
    "collapsed": true,
    "deletable": true,
    "editable": true
   },
   "outputs": [],
   "source": [
    "def resolve_image_idname(novaclient, idname):\n",
    "    try:\n",
    "        return novaclient.images.find(id=idname)\n",
    "    except novaexceptions.NotFound:\n",
    "        return novaclient.images.find(name=idname)"
   ]
  },
  {
   "cell_type": "code",
   "execution_count": 189,
   "metadata": {
    "collapsed": true,
    "deletable": true,
    "editable": true
   },
   "outputs": [],
   "source": [
    "DEFAULT_IMAGE = '0f216b1f-7841-451b-8971-d383364e01a6'\n",
    "DEFAULT_IMAGE = 'CC-CentOS7'\n",
    "\n",
    "def instance_create_args(lease, name=None, image=DEFAULT_IMAGE, key=None):\n",
    "    if name is None:\n",
    "        name = 'instance-{}'.format(random_base32(6))\n",
    "\n",
    "    return {\n",
    "        'name': name,\n",
    "        'flavor': 'baremetal',\n",
    "        'image': image,\n",
    "        # 'reservation_id': lease['reservations'][0]['id'],\n",
    "        'scheduler_hints': {\n",
    "            'reservation': lease['reservations'][0]['id'],\n",
    "        },\n",
    "        # 'nics': '', # automatically binds one, not needed unless want non-default?\n",
    "        'key_name': key,\n",
    "    }"
   ]
  },
  {
   "cell_type": "code",
   "execution_count": 91,
   "metadata": {
    "collapsed": true,
    "deletable": true,
    "editable": true
   },
   "outputs": [],
   "source": [
    "from glanceclient.client import Client as GlanceClient"
   ]
  },
  {
   "cell_type": "code",
   "execution_count": 92,
   "metadata": {
    "collapsed": true,
    "deletable": true,
    "editable": true
   },
   "outputs": [],
   "source": [
    "gc = GlanceClient('1', session=sess)"
   ]
  },
  {
   "cell_type": "code",
   "execution_count": 148,
   "metadata": {
    "collapsed": false,
    "deletable": true,
    "editable": true
   },
   "outputs": [],
   "source": [
    "centos = gc.images.find(name='CC-CentOS7')"
   ]
  },
  {
   "cell_type": "code",
   "execution_count": 195,
   "metadata": {
    "collapsed": false,
    "deletable": true,
    "editable": true
   },
   "outputs": [
    {
     "name": "stdout",
     "output_type": "stream",
     "text": [
      "{'name': 'instance-UJMKRQKRGA', 'flavor': 'baremetal', 'image': <Image: CC-CentOS7>, 'scheduler_hints': {'reservation': '7b8b2b6b-ad2f-40b3-a06b-254c7e19b1ce'}, 'key_name': 'nick-mbp17'}\n"
     ]
    },
    {
     "data": {
      "text/plain": [
       "<Server: instance-UJMKRQKRGA>"
      ]
     },
     "execution_count": 195,
     "metadata": {},
     "output_type": "execute_result"
    }
   ],
   "source": [
    "inst_image = resolve_image_idname(nc, 'CC-CentOS7')\n",
    "server_args = instance_create_args(my_lease, key='nick-mbp17', image=inst_image)\n",
    "print(server_args)\n",
    "my_instance = nc.servers.create(**server_args)\n",
    "my_instance"
   ]
  },
  {
   "cell_type": "code",
   "execution_count": 212,
   "metadata": {
    "collapsed": false,
    "deletable": true,
    "editable": true
   },
   "outputs": [
    {
     "name": "stdout",
     "output_type": "stream",
     "text": [
      "{'name': 'instance-7NCT33ZHRU', 'flavor': 'baremetal', 'image': <Image: CC-CentOS7>, 'scheduler_hints': {'reservation': 'c90a7f5a-16c5-4b8d-a2b4-004abea8a9c6'}, 'key_name': 'nick-mbp17'}\n"
     ]
    },
    {
     "data": {
      "text/plain": [
       "<Server: instance-7NCT33ZHRU>"
      ]
     },
     "execution_count": 212,
     "metadata": {},
     "output_type": "execute_result"
    }
   ],
   "source": [
    "import uuid\n",
    "inst_image = resolve_image_idname(nc, 'CC-CentOS7')\n",
    "fail_args = instance_create_args(my_lease, key='nick-mbp17', image=inst_image)\n",
    "fail_args['scheduler_hints']['reservation'] = str(uuid.uuid4())\n",
    "print(fail_args)\n",
    "my_failinstance = nc.servers.create(**fail_args)\n",
    "my_failinstance"
   ]
  },
  {
   "cell_type": "code",
   "execution_count": 213,
   "metadata": {
    "collapsed": true,
    "deletable": true,
    "editable": true
   },
   "outputs": [],
   "source": [
    "my_failinstance.get()"
   ]
  },
  {
   "cell_type": "code",
   "execution_count": 216,
   "metadata": {
    "collapsed": false,
    "deletable": true,
    "editable": true
   },
   "outputs": [
    {
     "data": {
      "text/plain": [
       "{'code': 500,\n",
       " 'created': '2017-04-06T15:53:44Z',\n",
       " 'message': 'No valid host was found. There are not enough hosts available.'}"
      ]
     },
     "execution_count": 216,
     "metadata": {},
     "output_type": "execute_result"
    }
   ],
   "source": [
    "my_failinstance.fault"
   ]
  },
  {
   "cell_type": "code",
   "execution_count": 217,
   "metadata": {
    "collapsed": false,
    "deletable": true,
    "editable": true
   },
   "outputs": [
    {
     "data": {
      "text/plain": [
       "'a312e5e2-fc6f-4d15-a0d3-618e45732349'"
      ]
     },
     "execution_count": 217,
     "metadata": {},
     "output_type": "execute_result"
    }
   ],
   "source": [
    "my_failinstance.id"
   ]
  },
  {
   "cell_type": "code",
   "execution_count": 201,
   "metadata": {
    "collapsed": true,
    "deletable": true,
    "editable": true
   },
   "outputs": [],
   "source": [
    "import datetime\n",
    "import time"
   ]
  },
  {
   "cell_type": "code",
   "execution_count": 204,
   "metadata": {
    "collapsed": false,
    "deletable": true,
    "editable": true
   },
   "outputs": [
    {
     "data": {
      "text/plain": [
       "'2017-04-06T10:32:05.736192'"
      ]
     },
     "execution_count": 204,
     "metadata": {},
     "output_type": "execute_result"
    }
   ],
   "source": [
    "datetime.datetime.now().isoformat()"
   ]
  },
  {
   "cell_type": "code",
   "execution_count": 210,
   "metadata": {
    "collapsed": false,
    "deletable": true,
    "editable": true
   },
   "outputs": [
    {
     "name": "stdout",
     "output_type": "stream",
     "text": [
      "2017-04-06T10:34:09.943600 stat:BUILD upd:2017-04-06T15:29:52Z\n",
      "2017-04-06T10:34:20.576771 stat:BUILD upd:2017-04-06T15:29:52Z\n",
      "2017-04-06T10:34:30.819393 stat:BUILD upd:2017-04-06T15:29:52Z\n",
      "2017-04-06T10:34:41.161329 stat:BUILD upd:2017-04-06T15:29:52Z\n",
      "2017-04-06T10:34:51.502328 stat:BUILD upd:2017-04-06T15:29:52Z\n",
      "2017-04-06T10:35:01.762983 stat:BUILD upd:2017-04-06T15:29:52Z\n",
      "2017-04-06T10:35:12.085914 stat:BUILD upd:2017-04-06T15:29:52Z\n",
      "2017-04-06T10:35:22.430271 stat:BUILD upd:2017-04-06T15:29:52Z\n",
      "2017-04-06T10:35:32.692484 stat:BUILD upd:2017-04-06T15:29:52Z\n",
      "2017-04-06T10:35:43.009659 stat:BUILD upd:2017-04-06T15:29:52Z\n",
      "2017-04-06T10:35:53.251143 stat:BUILD upd:2017-04-06T15:29:52Z\n",
      "2017-04-06T10:36:03.599786 stat:BUILD upd:2017-04-06T15:29:52Z\n",
      "2017-04-06T10:36:13.939468 stat:BUILD upd:2017-04-06T15:29:52Z\n",
      "2017-04-06T10:36:24.195385 stat:BUILD upd:2017-04-06T15:29:52Z\n",
      "2017-04-06T10:36:34.415824 stat:BUILD upd:2017-04-06T15:29:52Z\n",
      "2017-04-06T10:36:44.603758 stat:BUILD upd:2017-04-06T15:29:52Z\n",
      "2017-04-06T10:36:54.894985 stat:BUILD upd:2017-04-06T15:29:52Z\n",
      "2017-04-06T10:37:05.238683 stat:BUILD upd:2017-04-06T15:29:52Z\n",
      "2017-04-06T10:37:15.503782 stat:BUILD upd:2017-04-06T15:29:52Z\n",
      "2017-04-06T10:37:25.728886 stat:ACTIVE upd:2017-04-06T15:37:27Z\n"
     ]
    }
   ],
   "source": [
    "for _ in range(200):\n",
    "    time.sleep(10)\n",
    "    my_instance.get()\n",
    "    print('{} stat:{} upd:{}'.format(datetime.datetime.now().isoformat(), my_instance.status, my_instance.updated))\n",
    "    if my_instance.status != 'BUILD':\n",
    "        break"
   ]
  },
  {
   "cell_type": "code",
   "execution_count": 208,
   "metadata": {
    "collapsed": false,
    "deletable": true,
    "editable": true
   },
   "outputs": [],
   "source": [
    "my_instance.update()"
   ]
  },
  {
   "cell_type": "code",
   "execution_count": 209,
   "metadata": {
    "collapsed": false,
    "deletable": true,
    "editable": true
   },
   "outputs": [
    {
     "data": {
      "text/plain": [
       "{'OS-DCF:diskConfig': 'MANUAL',\n",
       " 'OS-EXT-AZ:availability_zone': 'climate:7b8b2b6b-ad2f-40b3-a06b-254c7e19b1ce',\n",
       " 'OS-EXT-STS:power_state': 0,\n",
       " 'OS-EXT-STS:task_state': 'spawning',\n",
       " 'OS-EXT-STS:vm_state': 'building',\n",
       " 'OS-SRV-USG:launched_at': None,\n",
       " 'OS-SRV-USG:terminated_at': None,\n",
       " 'accessIPv4': '',\n",
       " 'accessIPv6': '',\n",
       " 'addresses': {},\n",
       " 'adminPass': 'f8po6erfTLMS',\n",
       " 'config_drive': '',\n",
       " 'created': '2017-04-06T15:29:50Z',\n",
       " 'flavor': {'id': 'baremetal',\n",
       "  'links': [{'href': 'http://chi.tacc.chameleoncloud.org:8774/975c0a94b784483a885f4503f70af655/flavors/baremetal',\n",
       "    'rel': 'bookmark'}]},\n",
       " 'hostId': 'e132f00cc18a9c63324a0dcd0dd5ea19149dc3bab699c79d285d2842',\n",
       " 'id': '1853fed9-e9a4-4d0b-bf39-8658a5b7ae61',\n",
       " 'image': {'id': '0f216b1f-7841-451b-8971-d383364e01a6',\n",
       "  'links': [{'href': 'http://chi.tacc.chameleoncloud.org:8774/975c0a94b784483a885f4503f70af655/images/0f216b1f-7841-451b-8971-d383364e01a6',\n",
       "    'rel': 'bookmark'}]},\n",
       " 'key_name': 'nick-mbp17',\n",
       " 'links': [{'href': 'http://chi.tacc.chameleoncloud.org:8774/v2/975c0a94b784483a885f4503f70af655/servers/1853fed9-e9a4-4d0b-bf39-8658a5b7ae61',\n",
       "   'rel': 'self'},\n",
       "  {'href': 'http://chi.tacc.chameleoncloud.org:8774/975c0a94b784483a885f4503f70af655/servers/1853fed9-e9a4-4d0b-bf39-8658a5b7ae61',\n",
       "   'rel': 'bookmark'}],\n",
       " 'metadata': {},\n",
       " 'name': 'instance-UJMKRQKRGA',\n",
       " 'os-extended-volumes:volumes_attached': [],\n",
       " 'progress': 0,\n",
       " 'security_groups': [{'name': 'default'}],\n",
       " 'status': 'BUILD',\n",
       " 'tenant_id': '975c0a94b784483a885f4503f70af655',\n",
       " 'updated': '2017-04-06T15:29:52Z',\n",
       " 'user_id': '968303d4fb88415e8d8ed3c97f744958'}"
      ]
     },
     "execution_count": 209,
     "metadata": {},
     "output_type": "execute_result"
    }
   ],
   "source": [
    "my_instance.to_dict()"
   ]
  },
  {
   "cell_type": "code",
   "execution_count": 199,
   "metadata": {
    "collapsed": false,
    "deletable": true,
    "editable": true
   },
   "outputs": [
    {
     "data": {
      "text/plain": [
       "'BUILD'"
      ]
     },
     "execution_count": 199,
     "metadata": {},
     "output_type": "execute_result"
    }
   ],
   "source": [
    "my_instance.status"
   ]
  },
  {
   "cell_type": "code",
   "execution_count": 143,
   "metadata": {
    "collapsed": false,
    "deletable": true,
    "editable": true
   },
   "outputs": [
    {
     "data": {
      "text/plain": [
       "()"
      ]
     },
     "execution_count": 143,
     "metadata": {},
     "output_type": "execute_result"
    }
   ],
   "source": [
    "my_instance.delete()"
   ]
  },
  {
   "cell_type": "code",
   "execution_count": 219,
   "metadata": {
    "collapsed": false,
    "deletable": true,
    "editable": true
   },
   "outputs": [],
   "source": [
    "my_oob = nc.servers.get('00dcccc7-2ba6-4965-a0ce-3fe901e933c3')"
   ]
  },
  {
   "cell_type": "code",
   "execution_count": 242,
   "metadata": {
    "collapsed": false,
    "deletable": true,
    "editable": true
   },
   "outputs": [],
   "source": [
    "fips = nc.floating_ips.list()"
   ]
  },
  {
   "cell_type": "code",
   "execution_count": 243,
   "metadata": {
    "collapsed": false,
    "deletable": true,
    "editable": true
   },
   "outputs": [
    {
     "data": {
      "text/plain": [
       "[<FloatingIP fixed_ip=10.40.0.24, id=9bbc404c-aac7-4d57-b987-edb58b48db90, instance_id=d53f5ba0-391f-4fb8-bc3f-779c57b123ae, ip=129.114.108.211, pool=ext-net>]"
      ]
     },
     "execution_count": 243,
     "metadata": {},
     "output_type": "execute_result"
    }
   ],
   "source": [
    "fips"
   ]
  },
  {
   "cell_type": "code",
   "execution_count": 250,
   "metadata": {
    "collapsed": true,
    "deletable": true,
    "editable": true
   },
   "outputs": [],
   "source": [
    "from neutronclient.v2_0.client import Client as NeutronClient"
   ]
  },
  {
   "cell_type": "code",
   "execution_count": 248,
   "metadata": {
    "collapsed": false,
    "deletable": true,
    "editable": true
   },
   "outputs": [],
   "source": [
    "# from neutronclient.client import SessionClient as NeutronClient"
   ]
  },
  {
   "cell_type": "code",
   "execution_count": 251,
   "metadata": {
    "collapsed": true,
    "deletable": true,
    "editable": true
   },
   "outputs": [],
   "source": [
    "# nec = NeutronClient(session=sess)"
   ]
  },
  {
   "cell_type": "code",
   "execution_count": 254,
   "metadata": {
    "collapsed": false,
    "deletable": true,
    "editable": true
   },
   "outputs": [],
   "source": [
    "# nec.create_floatingip()"
   ]
  },
  {
   "cell_type": "code",
   "execution_count": 298,
   "metadata": {
    "collapsed": false,
    "deletable": true,
    "editable": true
   },
   "outputs": [
    {
     "data": {
      "text/plain": [
       "[<FloatingIP fixed_ip=None, id=017e7471-250c-4f4c-95ea-b25d7f603e51, instance_id=None, ip=129.114.109.146, pool=ext-net>]"
      ]
     },
     "execution_count": 298,
     "metadata": {},
     "output_type": "execute_result"
    }
   ],
   "source": [
    "free_fips = list(fip for fip in nc.floating_ips.list() if fip.instance_id is None)\n",
    "free_fips"
   ]
  },
  {
   "cell_type": "code",
   "execution_count": 299,
   "metadata": {
    "collapsed": false,
    "deletable": true,
    "editable": true
   },
   "outputs": [],
   "source": [
    "for fip in free_fips:\n",
    "    fip.delete()"
   ]
  },
  {
   "cell_type": "code",
   "execution_count": 274,
   "metadata": {
    "collapsed": false,
    "deletable": true,
    "editable": true
   },
   "outputs": [],
   "source": [
    "def get_create_floatingip(nc):\n",
    "    created = False\n",
    "    ips = nc.floating_ips.list()\n",
    "    unbound = (ip for ip in ips if ip.instance_id is None)\n",
    "    try:\n",
    "        fip = next(unbound)\n",
    "    except StopIteration:\n",
    "        fip = nc.floating_ips.create('ext-net')\n",
    "        created = True\n",
    "    return created, fip\n",
    "\n",
    "created, fip = get_create_floatingip(nc)"
   ]
  },
  {
   "cell_type": "code",
   "execution_count": 301,
   "metadata": {
    "collapsed": true,
    "deletable": true,
    "editable": true
   },
   "outputs": [],
   "source": [
    "from blazarclient.client import Client as _BlazarClient # installed from github\n",
    "\n",
    "class BlazarClient(object):\n",
    "    \"\"\"\n",
    "    Current BlazarClient doesn't support sessions, just a token, so it\n",
    "    behaves poorly after its token expires. This is a thin wrapper that \n",
    "    recreates the real client every X minutes to avoid expiration.\n",
    "    \"\"\"\n",
    "    def __init__(self, version, session):\n",
    "        self._version = version\n",
    "        self._session = session\n",
    "        self._client_age = None\n",
    "        self._create_client()\n",
    "\n",
    "    def _create_client(self):\n",
    "        self._bc = _BlazarClient(\n",
    "            self._version, \n",
    "            blazar_url=self._session.get_endpoint(service_type='reservation'), \n",
    "            auth_token=self._session.get_token(),\n",
    "        )\n",
    "        self._client_age = time.monotonic()\n",
    "        \n",
    "    def __getattr__(self, attr):\n",
    "        if time.monotonic() - self._client_age > 20*60:\n",
    "            self._create_client()\n",
    "        return getattr(self._bc, attr)"
   ]
  },
  {
   "cell_type": "code",
   "execution_count": 302,
   "metadata": {
    "collapsed": false,
    "deletable": true,
    "editable": true
   },
   "outputs": [],
   "source": [
    "bc = BlazarClient('1', sess)"
   ]
  },
  {
   "cell_type": "code",
   "execution_count": 297,
   "metadata": {
    "collapsed": false,
    "deletable": true,
    "editable": true
   },
   "outputs": [
    {
     "data": {
      "text/plain": [
       "()"
      ]
     },
     "execution_count": 297,
     "metadata": {},
     "output_type": "execute_result"
    }
   ],
   "source": [
    "fip.delete()"
   ]
  },
  {
   "cell_type": "code",
   "execution_count": 303,
   "metadata": {
    "collapsed": false,
    "deletable": true,
    "editable": true
   },
   "outputs": [],
   "source": [
    "bc.lease.delete('820bae2f-a58f-4205-840d-d58494de779a')"
   ]
  },
  {
   "cell_type": "code",
   "execution_count": 262,
   "metadata": {
    "collapsed": false,
    "deletable": true,
    "editable": true
   },
   "outputs": [
    {
     "data": {
      "text/plain": [
       "<FloatingIP fixed_ip=None, id=017e7471-250c-4f4c-95ea-b25d7f603e51, instance_id=None, ip=129.114.109.146, pool=ext-net>"
      ]
     },
     "execution_count": 262,
     "metadata": {},
     "output_type": "execute_result"
    }
   ],
   "source": [
    "# pool = nc.floating_ip_pools.find(name='ext-net')\n"
   ]
  },
  {
   "cell_type": "code",
   "execution_count": 277,
   "metadata": {
    "collapsed": false,
    "deletable": true,
    "editable": true
   },
   "outputs": [
    {
     "data": {
      "text/plain": [
       "'129.114.108.242'"
      ]
     },
     "execution_count": 277,
     "metadata": {},
     "output_type": "execute_result"
    }
   ],
   "source": [
    "fip.ip"
   ]
  },
  {
   "cell_type": "code",
   "execution_count": 278,
   "metadata": {
    "collapsed": false,
    "deletable": true,
    "editable": true
   },
   "outputs": [
    {
     "ename": "ModuleNotFoundError",
     "evalue": "No module named 'fabric'",
     "output_type": "error",
     "traceback": [
      "\u001b[0;31m---------------------------------------------------------------------------\u001b[0m",
      "\u001b[0;31mModuleNotFoundError\u001b[0m                       Traceback (most recent call last)",
      "\u001b[0;32m<ipython-input-278-c0b7287ff4f9>\u001b[0m in \u001b[0;36m<module>\u001b[0;34m()\u001b[0m\n\u001b[0;32m----> 1\u001b[0;31m \u001b[0;32mimport\u001b[0m \u001b[0mfabric\u001b[0m\u001b[0;34m\u001b[0m\u001b[0m\n\u001b[0m",
      "\u001b[0;31mModuleNotFoundError\u001b[0m: No module named 'fabric'"
     ]
    }
   ],
   "source": [
    "import fabric"
   ]
  },
  {
   "cell_type": "code",
   "execution_count": 273,
   "metadata": {
    "collapsed": false,
    "deletable": true,
    "editable": true
   },
   "outputs": [
    {
     "data": {
      "text/plain": [
       "(False,\n",
       " <FloatingIP fixed_ip=None, id=35c7794f-c761-410f-8774-e5d8d68b78db, instance_id=None, ip=129.114.108.242, pool=ext-net>)"
      ]
     },
     "execution_count": 273,
     "metadata": {},
     "output_type": "execute_result"
    }
   ],
   "source": [
    "created, fip = get_create_floatingip(nc)\n"
   ]
  },
  {
   "cell_type": "code",
   "execution_count": 266,
   "metadata": {
    "collapsed": false,
    "deletable": true,
    "editable": true
   },
   "outputs": [
    {
     "data": {
      "text/plain": [
       "()"
      ]
     },
     "execution_count": 266,
     "metadata": {},
     "output_type": "execute_result"
    }
   ],
   "source": [
    "my_oob.add_floating_ip(fip)"
   ]
  },
  {
   "cell_type": "code",
   "execution_count": 268,
   "metadata": {
    "collapsed": false,
    "deletable": true,
    "editable": true
   },
   "outputs": [],
   "source": [
    "fip.get()"
   ]
  },
  {
   "cell_type": "code",
   "execution_count": 269,
   "metadata": {
    "collapsed": false,
    "deletable": true,
    "editable": true
   },
   "outputs": [
    {
     "data": {
      "text/plain": [
       "<FloatingIP fixed_ip=10.40.0.53, id=017e7471-250c-4f4c-95ea-b25d7f603e51, instance_id=00dcccc7-2ba6-4965-a0ce-3fe901e933c3, ip=129.114.109.146, pool=ext-net>"
      ]
     },
     "execution_count": 269,
     "metadata": {},
     "output_type": "execute_result"
    }
   ],
   "source": [
    "fip"
   ]
  },
  {
   "cell_type": "code",
   "execution_count": 140,
   "metadata": {
    "collapsed": false,
    "deletable": true,
    "editable": true
   },
   "outputs": [],
   "source": [
    "my_instance.metadata['hello'] = 'world'"
   ]
  },
  {
   "cell_type": "code",
   "execution_count": 160,
   "metadata": {
    "collapsed": false,
    "deletable": true,
    "editable": true
   },
   "outputs": [
    {
     "data": {
      "text/plain": [
       "{'OS-DCF:diskConfig': 'MANUAL',\n",
       " 'OS-EXT-AZ:availability_zone': 'climate:bf125945-3ae9-4a5a-a21b-ae126eeef7bf',\n",
       " 'OS-EXT-STS:power_state': 0,\n",
       " 'OS-EXT-STS:task_state': 'spawning',\n",
       " 'OS-EXT-STS:vm_state': 'building',\n",
       " 'OS-SRV-USG:launched_at': None,\n",
       " 'OS-SRV-USG:terminated_at': None,\n",
       " 'accessIPv4': '',\n",
       " 'accessIPv6': '',\n",
       " 'addresses': {},\n",
       " 'adminPass': '8upZwdV2UJPY',\n",
       " 'config_drive': '',\n",
       " 'created': '2017-04-06T03:00:55Z',\n",
       " 'flavor': {'id': 'baremetal',\n",
       "  'links': [{'href': 'http://chi.tacc.chameleoncloud.org:8774/975c0a94b784483a885f4503f70af655/flavors/baremetal',\n",
       "    'rel': 'bookmark'}]},\n",
       " 'hostId': '0d0c84f9f20f10c36d934b0fcc4d97dd69dac406ecb69a232efc9341',\n",
       " 'id': 'c7148cc0-a311-4cf6-b32f-989e289ed74a',\n",
       " 'image': {'id': '0f216b1f-7841-451b-8971-d383364e01a6',\n",
       "  'links': [{'href': 'http://chi.tacc.chameleoncloud.org:8774/975c0a94b784483a885f4503f70af655/images/0f216b1f-7841-451b-8971-d383364e01a6',\n",
       "    'rel': 'bookmark'}]},\n",
       " 'key_name': 'nick-mbp17',\n",
       " 'links': [{'href': 'http://chi.tacc.chameleoncloud.org:8774/v2/975c0a94b784483a885f4503f70af655/servers/c7148cc0-a311-4cf6-b32f-989e289ed74a',\n",
       "   'rel': 'self'},\n",
       "  {'href': 'http://chi.tacc.chameleoncloud.org:8774/975c0a94b784483a885f4503f70af655/servers/c7148cc0-a311-4cf6-b32f-989e289ed74a',\n",
       "   'rel': 'bookmark'}],\n",
       " 'metadata': {},\n",
       " 'name': 'instance-MV2WIDJSSY',\n",
       " 'os-extended-volumes:volumes_attached': [],\n",
       " 'progress': 0,\n",
       " 'security_groups': [{'name': 'default'}],\n",
       " 'status': 'BUILD',\n",
       " 'tenant_id': '975c0a94b784483a885f4503f70af655',\n",
       " 'updated': '2017-04-06T03:00:57Z',\n",
       " 'user_id': '968303d4fb88415e8d8ed3c97f744958'}"
      ]
     },
     "execution_count": 160,
     "metadata": {},
     "output_type": "execute_result"
    }
   ],
   "source": [
    "my_instance.to_dict()"
   ]
  },
  {
   "cell_type": "code",
   "execution_count": 70,
   "metadata": {
    "collapsed": false,
    "deletable": true,
    "editable": true
   },
   "outputs": [
    {
     "data": {
      "text/plain": [
       "'Successfully created lease'"
      ]
     },
     "execution_count": 70,
     "metadata": {},
     "output_type": "execute_result"
    }
   ],
   "source": [
    "bc.lease.get(my_lease['id'])['status_reason']"
   ]
  },
  {
   "cell_type": "code",
   "execution_count": 75,
   "metadata": {
    "collapsed": false,
    "deletable": true,
    "editable": true
   },
   "outputs": [],
   "source": [
    "bc.lease.delete(gpu100_1['id'])"
   ]
  },
  {
   "cell_type": "code",
   "execution_count": 33,
   "metadata": {
    "collapsed": false,
    "deletable": true,
    "editable": true,
    "scrolled": true
   },
   "outputs": [
    {
     "data": {
      "text/plain": [
       "<novaclient.v2.client.Client at 0x1033ebf28>"
      ]
     },
     "execution_count": 33,
     "metadata": {},
     "output_type": "execute_result"
    }
   ],
   "source": [
    "nc.servers.create()"
   ]
  },
  {
   "cell_type": "code",
   "execution_count": 359,
   "metadata": {
    "collapsed": false,
    "deletable": true,
    "editable": true
   },
   "outputs": [],
   "source": [
    "my_inst = nc.servers.get('f41f9901-5b12-4cd0-9da5-94cc66b2655a')"
   ]
  },
  {
   "cell_type": "code",
   "execution_count": 360,
   "metadata": {
    "collapsed": false
   },
   "outputs": [
    {
     "data": {
      "text/plain": [
       "<Image: test-CC-Ubuntu16.04-CUDA8>"
      ]
     },
     "execution_count": 360,
     "metadata": {},
     "output_type": "execute_result"
    }
   ],
   "source": [
    "gputest = nc.images.find(id='87224200-ea8c-4286-8e2b-e5ac5b089b36')\n",
    "gputest"
   ]
  },
  {
   "cell_type": "code",
   "execution_count": 483,
   "metadata": {
    "collapsed": false,
    "deletable": true,
    "editable": true
   },
   "outputs": [
    {
     "data": {
      "text/plain": [
       "<Server: image-builder-gpu>"
      ]
     },
     "execution_count": 483,
     "metadata": {},
     "output_type": "execute_result"
    }
   ],
   "source": [
    "xenial = nc.images.find(name='CC-Ubuntu16.04')\n",
    "my_inst.rebuild(xenial)"
   ]
  },
  {
   "cell_type": "code",
   "execution_count": 434,
   "metadata": {
    "collapsed": true
   },
   "outputs": [],
   "source": [
    "import errno\n",
    "import time\n",
    "\n",
    "from paramiko import SSHException\n",
    "from fabric.network import NetworkError"
   ]
  },
  {
   "cell_type": "code",
   "execution_count": 484,
   "metadata": {
    "collapsed": false
   },
   "outputs": [
    {
     "data": {
      "text/plain": [
       "'ACTIVE'"
      ]
     },
     "execution_count": 484,
     "metadata": {},
     "output_type": "execute_result"
    }
   ],
   "source": [
    "my_inst.get()\n",
    "my_inst.status"
   ]
  },
  {
   "cell_type": "code",
   "execution_count": 502,
   "metadata": {
    "collapsed": false
   },
   "outputs": [
    {
     "data": {
      "text/plain": [
       "<Server: image-builder-gpu>"
      ]
     },
     "execution_count": 502,
     "metadata": {},
     "output_type": "execute_result"
    }
   ],
   "source": [
    "my_inst.rebuild(nc.images.find(name='test2-CC-Ubuntu16.04-CUDA8'))"
   ]
  },
  {
   "cell_type": "code",
   "execution_count": 503,
   "metadata": {
    "collapsed": false
   },
   "outputs": [
    {
     "name": "stdout",
     "output_type": "stream",
     "text": [
      "..............................\n",
      "2017-04-09T00:31:23.763068 REBUILD -> ACTIVE\n"
     ]
    }
   ],
   "source": [
    "old_status = my_inst.status\n",
    "for _ in range(100):\n",
    "    time.sleep(10)\n",
    "    my_inst.get()\n",
    "    if my_inst.status == 'ACTIVE':\n",
    "        print()\n",
    "        break\n",
    "    old_status = my_inst.status\n",
    "    print('.', end='')\n",
    "\n",
    "print('{} {} -> {}'.format(datetime.datetime.now().isoformat(), old_status, my_inst.status))"
   ]
  },
  {
   "cell_type": "code",
   "execution_count": 504,
   "metadata": {
    "collapsed": false
   },
   "outputs": [
    {
     "name": "stdout",
     "output_type": "stream",
     "text": [
      "................"
     ]
    }
   ],
   "source": [
    "while True:\n",
    "    try:\n",
    "        with fapi.settings(abort_on_prompts=True):\n",
    "            fapi.run('', quiet=True)\n",
    "        break\n",
    "    except OSError as e:\n",
    "        if e.errno == errno.ENETUNREACH:\n",
    "            pass\n",
    "        raise\n",
    "    except (NetworkError, SSHException):\n",
    "        pass\n",
    "    print('.', end='')\n",
    "    time.sleep(10)"
   ]
  },
  {
   "cell_type": "code",
   "execution_count": 506,
   "metadata": {
    "collapsed": false
   },
   "outputs": [
    {
     "name": "stdout",
     "output_type": "stream",
     "text": [
      "[129.114.108.248] run: nvidia-smi\n",
      "[129.114.108.248] out: /bin/bash: nvidia-smi: command not found\n",
      "[129.114.108.248] out: \n",
      "\n"
     ]
    },
    {
     "name": "stderr",
     "output_type": "stream",
     "text": [
      "\n",
      "Warning: run() received nonzero return code 127 while executing 'nvidia-smi'!\n",
      "\n"
     ]
    },
    {
     "data": {
      "text/plain": [
       "'/bin/bash: nvidia-smi: command not found'"
      ]
     },
     "execution_count": 506,
     "metadata": {},
     "output_type": "execute_result"
    }
   ],
   "source": [
    "fapi.run('touch /home/cc/.cloud-warnings.skip', quiet=True)\n",
    "fapi.run('nvidia-smi')"
   ]
  },
  {
   "cell_type": "code",
   "execution_count": 342,
   "metadata": {
    "collapsed": false,
    "deletable": true,
    "editable": true
   },
   "outputs": [
    {
     "name": "stdout",
     "output_type": "stream",
     "text": [
      "glance --os-auth-url https://chi.tacc.chameleoncloud.org:5000/v2.0 --os-user-id 968303d4fb88415e8d8ed3c97f744958 --os-username ntimkovi --os-auth-token 167e8fc82ca742f8b439f4e99c61cff7 --os-project-id 975c0a94b784483a885f4503f70af655 image-list\n"
     ]
    }
   ],
   "source": [
    "print(f'glance --os-auth-url {sess.auth.auth_url} \\\n",
    "--os-user-id {sess.get_user_id()} \\\n",
    "--os-username {sess.auth.auth_ref.username} \\\n",
    "--os-auth-token {sess.get_token()} \\\n",
    "--os-project-id {sess.get_project_id()} \\\n",
    "image-list')"
   ]
  },
  {
   "cell_type": "code",
   "execution_count": 394,
   "metadata": {
    "collapsed": false
   },
   "outputs": [
    {
     "data": {
      "text/plain": [
       "9.0"
      ]
     },
     "execution_count": 394,
     "metadata": {},
     "output_type": "execute_result"
    }
   ],
   "source": [
    "147456 / 1024 / 16"
   ]
  },
  {
   "cell_type": "code",
   "execution_count": null,
   "metadata": {
    "collapsed": true
   },
   "outputs": [],
   "source": []
  },
  {
   "cell_type": "code",
   "execution_count": 489,
   "metadata": {
    "collapsed": false
   },
   "outputs": [
    {
     "name": "stdout",
     "output_type": "stream",
     "text": [
      "[129.114.108.248] run: glance image-download --file test4-CC-Ubuntu16.04-CUDA8.qcow2 99ca5101-de22-4fe3-bbf8-a27c85ebc0f3\n"
     ]
    }
   ],
   "source": [
    "image_name = 'test4-CC-Ubuntu16.04-CUDA8'\n",
    "image = nc.images.find(name=image_name)\n",
    "with fcm.shell_env(**rc):#, fapi.cd('/home/cc/build'):\n",
    "    out = fapi.run('glance image-download --file {}.qcow2 {}'.format(image_name, image.id))\n",
    "#                    '--file /tmp/tmp.kTi8NRm9CS/common/CC-Ubuntu16.04.qcow2')"
   ]
  },
  {
   "cell_type": "code",
   "execution_count": 494,
   "metadata": {
    "collapsed": false
   },
   "outputs": [
    {
     "name": "stdout",
     "output_type": "stream",
     "text": [
      "[129.114.108.248] sudo: guestmount -a /home/cc/test4-CC-Ubuntu16.04-CUDA8.qcow2 -m /dev/sdb1 /home/cc/mount\n",
      "[129.114.108.248] out: sudo: unable to resolve host image-builder-gpu\n",
      "[129.114.108.248] out: libguestfs: error: mount_options: mount_options_stub: /dev/sdb1: No such file or directory\n",
      "[129.114.108.248] out: guestmount: '/dev/sdb1' could not be mounted.\n",
      "[129.114.108.248] out: guestmount: Did you mean to mount one of these filesystems?\n",
      "[129.114.108.248] out: guestmount: \t/dev/sda1 (ext4)\n",
      "[129.114.108.248] out: \n",
      "\n"
     ]
    },
    {
     "name": "stderr",
     "output_type": "stream",
     "text": [
      "\n",
      "Warning: sudo() received nonzero return code 1 while executing 'guestmount -a /home/cc/test4-CC-Ubuntu16.04-CUDA8.qcow2 -m /dev/sdb1 /home/cc/mount'!\n",
      "\n"
     ]
    },
    {
     "data": {
      "text/plain": [
       "\"sudo: unable to resolve host image-builder-gpu\\r\\nlibguestfs: error: mount_options: mount_options_stub: /dev/sdb1: No such file or directory\\r\\nguestmount: '/dev/sdb1' could not be mounted.\\r\\nguestmount: Did you mean to mount one of these filesystems?\\r\\nguestmount: \\t/dev/sda1 (ext4)\""
      ]
     },
     "execution_count": 494,
     "metadata": {},
     "output_type": "execute_result"
    }
   ],
   "source": [
    "# fapi.run('mkdir mount')\n",
    "fapi.sudo(f'guestmount -a /home/cc/{image_name}.qcow2 -m /dev/sdb1 /home/cc/mount')"
   ]
  },
  {
   "cell_type": "code",
   "execution_count": 492,
   "metadata": {
    "collapsed": false
   },
   "outputs": [
    {
     "name": "stdout",
     "output_type": "stream",
     "text": [
      "[129.114.108.248] run: glance image-create --name \"test8-CC-Ubuntu16.04-CUDA8\" --disk-format qcow2 --container-format bare --file /tmp/tmp.HXN40mQ9SY/common/CC-Ubuntu16.04-CUDA8.qcow2\n",
      "[129.114.108.248] out: +------------------+--------------------------------------+\n",
      "[129.114.108.248] out: | Property         | Value                                |\n",
      "[129.114.108.248] out: +------------------+--------------------------------------+\n",
      "[129.114.108.248] out: | checksum         | 073bc8ef06e14183143750ee1dcfa550     |\n",
      "[129.114.108.248] out: | container_format | bare                                 |\n",
      "[129.114.108.248] out: | created_at       | 2017-04-09T03:54:35Z                 |\n",
      "[129.114.108.248] out: | disk_format      | qcow2                                |\n",
      "[129.114.108.248] out: | id               | d21d59bb-26d9-470f-b1a6-1de2b8789874 |\n",
      "[129.114.108.248] out: | min_disk         | 0                                    |\n",
      "[129.114.108.248] out: | min_ram          | 0                                    |\n",
      "[129.114.108.248] out: | name             | test8-CC-Ubuntu16.04-CUDA8           |\n",
      "[129.114.108.248] out: | owner            | 975c0a94b784483a885f4503f70af655     |\n",
      "[129.114.108.248] out: | protected        | False                                |\n",
      "[129.114.108.248] out: | size             | 2345926656                           |\n",
      "[129.114.108.248] out: | status           | active                               |\n",
      "[129.114.108.248] out: | tags             | []                                   |\n",
      "[129.114.108.248] out: | updated_at       | 2017-04-09T03:54:51Z                 |\n",
      "[129.114.108.248] out: | virtual_size     | None                                 |\n",
      "[129.114.108.248] out: | visibility       | private                              |\n",
      "[129.114.108.248] out: +------------------+--------------------------------------+\n",
      "[129.114.108.248] out: \n",
      "\n"
     ]
    }
   ],
   "source": [
    "from fabric import api as fapi\n",
    "from fabric import context_managers as fcm\n",
    "\n",
    "fapi.env.warn_only = True\n",
    "fapi.env.use_ssh_config = True\n",
    "user = fapi.env.user = 'cc'\n",
    "host = fapi.env.host_string = '129.114.108.248'\n",
    "\n",
    "image_loc = '/tmp/tmp.HXN40mQ9SY/common/CC-Ubuntu16.04-CUDA8.qcow2'\n",
    "\n",
    "with fcm.shell_env(**rc):#, fapi.cd('/home/cc/build'):\n",
    "    out = fapi.run('glance image-create '\n",
    "                   '--name \"test8-CC-Ubuntu16.04-CUDA8\" '\n",
    "                   '--disk-format qcow2 '\n",
    "                   '--container-format bare '\n",
    "                   '--file {}'.format(image_loc))\n",
    "#                    '--file /tmp/tmp.kTi8NRm9CS/common/CC-Ubuntu16.04.qcow2')"
   ]
  },
  {
   "cell_type": "code",
   "execution_count": 493,
   "metadata": {
    "collapsed": false
   },
   "outputs": [
    {
     "data": {
      "text/plain": [
       "'d21d59bb-26d9-470f-b1a6-1de2b8789874'"
      ]
     },
     "execution_count": 493,
     "metadata": {},
     "output_type": "execute_result"
    }
   ],
   "source": [
    "image_data = {}\n",
    "for line in out.splitlines():\n",
    "    parts = [p.strip() for p in line.strip(' |\\n\\t').split('|')]\n",
    "    if len(parts) != 2:\n",
    "        continue\n",
    "    key, value = parts\n",
    "    if key == 'Property':\n",
    "        continue\n",
    "    image_data[key] = value\n",
    "    \n",
    "image_data['id']"
   ]
  },
  {
   "cell_type": "code",
   "execution_count": 495,
   "metadata": {
    "collapsed": false
   },
   "outputs": [
    {
     "data": {
      "text/plain": [
       "<Server: image-builder-gpu>"
      ]
     },
     "execution_count": 495,
     "metadata": {},
     "output_type": "execute_result"
    }
   ],
   "source": [
    "my_inst.rebuild(image_data['id'])"
   ]
  },
  {
   "cell_type": "code",
   "execution_count": 496,
   "metadata": {
    "collapsed": false
   },
   "outputs": [
    {
     "data": {
      "text/plain": [
       "'REBUILD'"
      ]
     },
     "execution_count": 496,
     "metadata": {},
     "output_type": "execute_result"
    }
   ],
   "source": [
    "my_inst.get()\n",
    "my_inst.status"
   ]
  },
  {
   "cell_type": "code",
   "execution_count": 497,
   "metadata": {
    "collapsed": false
   },
   "outputs": [
    {
     "data": {
      "text/plain": [
       "{'id': 'd21d59bb-26d9-470f-b1a6-1de2b8789874',\n",
       " 'links': [{'href': 'http://chi.tacc.chameleoncloud.org:8774/975c0a94b784483a885f4503f70af655/images/d21d59bb-26d9-470f-b1a6-1de2b8789874',\n",
       "   'rel': 'bookmark'}]}"
      ]
     },
     "execution_count": 497,
     "metadata": {},
     "output_type": "execute_result"
    }
   ],
   "source": [
    "my_inst.image"
   ]
  },
  {
   "cell_type": "code",
   "execution_count": 498,
   "metadata": {
    "collapsed": false
   },
   "outputs": [
    {
     "data": {
      "text/plain": [
       "<Image: test8-CC-Ubuntu16.04-CUDA8>"
      ]
     },
     "execution_count": 498,
     "metadata": {},
     "output_type": "execute_result"
    }
   ],
   "source": [
    "nc.images.find(id=my_inst.image['id'])"
   ]
  },
  {
   "cell_type": "code",
   "execution_count": 452,
   "metadata": {
    "collapsed": false
   },
   "outputs": [
    {
     "data": {
      "text/plain": [
       "()"
      ]
     },
     "execution_count": 452,
     "metadata": {},
     "output_type": "execute_result"
    }
   ],
   "source": [
    "my_inst.reboot()"
   ]
  },
  {
   "cell_type": "code",
   "execution_count": 479,
   "metadata": {
    "collapsed": false,
    "scrolled": true
   },
   "outputs": [
    {
     "name": "stdout",
     "output_type": "stream",
     "text": [
      "[129.114.108.248] run: lspci | grep -i nvid\n",
      "[129.114.108.248] out: 03:00.0 3D controller: NVIDIA Corporation Device 15f8 (rev a1)\n",
      "[129.114.108.248] out: 82:00.0 3D controller: NVIDIA Corporation Device 15f8 (rev a1)\n",
      "[129.114.108.248] out: \n",
      "\n"
     ]
    },
    {
     "data": {
      "text/plain": [
       "'03:00.0 3D controller: NVIDIA Corporation Device 15f8 (rev a1)\\r\\n82:00.0 3D controller: NVIDIA Corporation Device 15f8 (rev a1)'"
      ]
     },
     "execution_count": 479,
     "metadata": {},
     "output_type": "execute_result"
    }
   ],
   "source": [
    "fapi.run('lspci | grep -i nvid')"
   ]
  },
  {
   "cell_type": "code",
   "execution_count": null,
   "metadata": {
    "collapsed": true,
    "deletable": true,
    "editable": true
   },
   "outputs": [],
   "source": []
  }
 ],
 "metadata": {
  "kernelspec": {
   "display_name": "OS Clients (3.6)",
   "language": "python",
   "name": "os36"
  },
  "language_info": {
   "codemirror_mode": {
    "name": "ipython",
    "version": 3
   },
   "file_extension": ".py",
   "mimetype": "text/x-python",
   "name": "python",
   "nbconvert_exporter": "python",
   "pygments_lexer": "ipython3",
   "version": "3.6.1"
  }
 },
 "nbformat": 4,
 "nbformat_minor": 2
}
