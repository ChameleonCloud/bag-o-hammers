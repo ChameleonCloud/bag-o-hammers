{
 "cells": [
  {
   "cell_type": "code",
   "execution_count": null,
   "metadata": {
    "collapsed": false
   },
   "outputs": [],
   "source": [
    "from __future__ import print_function, unicode_literals\n",
    "import contextlib\n",
    "import datetime\n",
    "import io\n",
    "import re\n",
    "import sys\n",
    "\n",
    "from fabric import api, state, network"
   ]
  },
  {
   "cell_type": "code",
   "execution_count": null,
   "metadata": {
    "collapsed": false
   },
   "outputs": [],
   "source": [
    "class WriteOnlyBuffer(object):\n",
    "    def write(self, to_discard):\n",
    "        pass\n",
    "\n",
    "@contextlib.contextmanager\n",
    "def nostdout():\n",
    "    \"plz shut up fabric\"\n",
    "    save_stdout = sys.stdout\n",
    "    sys.stdout = WriteOnlyBuffer()\n",
    "    yield\n",
    "    sys.stdout = save_stdout\n",
    "\n",
    "def scp_get(host, filename):\n",
    "    buf = io.BytesIO()\n",
    "\n",
    "    api.env.use_ssh_config = True\n",
    "    api.env.host_string = host\n",
    "\n",
    "    with nostdout(), api.hide('output', 'running', 'warnings'), api.settings(warn_only=True):\n",
    "        api.get(filename, local_path=buf)\n",
    "        network.disconnect_all()\n",
    "\n",
    "    return buf.getvalue().decode('ascii').splitlines()"
   ]
  },
  {
   "cell_type": "code",
   "execution_count": null,
   "metadata": {
    "collapsed": false
   },
   "outputs": [],
   "source": [
    "NOVA_QUOTA_PARTS = {'instances', 'cores', 'ram', 'floating-ips', 'security-groups'}\n",
    "\n",
    "def parse_nova_quotas(args):\n",
    "    args = args.split()\n",
    "    project = args.pop()\n",
    "    assert len(args) % 2 == 0 # even\n",
    "    \n",
    "    iargs = iter(args)\n",
    "    quota_update = {}\n",
    "    for part in iargs:\n",
    "        part = part.lstrip('--')\n",
    "        assert part in NOVA_QUOTA_PARTS\n",
    "        value = int(next(iargs))\n",
    "        quota_update['nova:' + part] = value\n",
    "    \n",
    "    return project, quota_update"
   ]
  },
  {
   "cell_type": "code",
   "execution_count": null,
   "metadata": {
    "collapsed": true
   },
   "outputs": [],
   "source": [
    "NEUTRON_QUOTA_PARTS = {'port', 'floatingip', 'tenant_id'}\n",
    "\n",
    "def parse_neutron_quotas(args):\n",
    "    args = args.split()\n",
    "    assert len(args) % 2 == 0 # even\n",
    "    \n",
    "    iargs = iter(args)\n",
    "    quota_update = {}\n",
    "    project = None\n",
    "    for part in iargs:\n",
    "        part = part.lstrip('--')\n",
    "        assert part in NEUTRON_QUOTA_PARTS\n",
    "        value = next(iargs)\n",
    "        if part == 'tenant_id':\n",
    "            project = value\n",
    "        else:\n",
    "            quota_update['neutron:' + part] = int(value)\n",
    "    \n",
    "    assert project is not None\n",
    "    return project, quota_update"
   ]
  },
  {
   "cell_type": "code",
   "execution_count": null,
   "metadata": {
    "collapsed": false
   },
   "outputs": [],
   "source": [
    "def parse_quotas(lines):\n",
    "    quotas = {}\n",
    "    ticket_context = None\n",
    "    for line in lines:\n",
    "        line = line.strip()\n",
    "        if not line:\n",
    "            continue\n",
    "        if line.startswith('#'):\n",
    "            result = re.search(r'ticket\\s*(?P<ticket_num>[0-9]+)', line, flags=re.IGNORECASE)\n",
    "            if result:\n",
    "                ticket_context = result.groupdict()['ticket_num']\n",
    "            continue\n",
    "\n",
    "        service, command, args = line.split(' ', 2) # maxsplit=2\n",
    "\n",
    "        # we only know how to handle...\n",
    "        assert service in ['neutron', 'nova']\n",
    "        assert command == 'quota-update'\n",
    "\n",
    "        project, quota_update = {'neutron': parse_neutron_quotas, 'nova': parse_nova_quotas}[service](args)\n",
    "        if project in quotas:\n",
    "            quotas[project].update(quota_update)\n",
    "        else:\n",
    "            quotas[project] = quota_update\n",
    "\n",
    "    return quotas"
   ]
  },
  {
   "cell_type": "code",
   "execution_count": null,
   "metadata": {
    "collapsed": false
   },
   "outputs": [],
   "source": [
    "host = 'm01-03'\n",
    "filename = '/root/quota-update.sh'\n",
    "\n",
    "quota_lines = scp_get(host, filename)\n",
    "print('Report generated at {} from {} on {}'.format(datetime.datetime.now().isoformat(), filename, host))\n",
    "\n",
    "quotas = parse_quotas(quota_lines)\n",
    "columns = (\n",
    "    ['nova:' + p for p in NOVA_QUOTA_PARTS]\n",
    "    + ['neutron:' + p for p in NEUTRON_QUOTA_PARTS]\n",
    ")\n",
    "print('{},{}'.format('project', ','.join(columns)))\n",
    "for project, quota in quotas.items():\n",
    "    print('{},{}'.format(project, ','.join(str(quota.get(key, '')) for key in sorted(columns))))\n",
    "print()"
   ]
  },
  {
   "cell_type": "code",
   "execution_count": null,
   "metadata": {
    "collapsed": true
   },
   "outputs": [],
   "source": []
  }
 ],
 "metadata": {
  "kernelspec": {
   "display_name": "OS on 2.7",
   "language": "python",
   "name": "os27"
  },
  "language_info": {
   "codemirror_mode": {
    "name": "ipython",
    "version": 2
   },
   "file_extension": ".py",
   "mimetype": "text/x-python",
   "name": "python",
   "nbconvert_exporter": "python",
   "pygments_lexer": "ipython2",
   "version": "2.7.12"
  }
 },
 "nbformat": 4,
 "nbformat_minor": 2
}
