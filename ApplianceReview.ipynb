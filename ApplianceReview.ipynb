{
 "cells": [
  {
   "cell_type": "code",
   "execution_count": 1,
   "metadata": {
    "collapsed": true
   },
   "outputs": [],
   "source": [
    "from fabric import api as fapi"
   ]
  },
  {
   "cell_type": "code",
   "execution_count": 2,
   "metadata": {
    "collapsed": false
   },
   "outputs": [],
   "source": [
    "host = '129.114.108.248'"
   ]
  },
  {
   "cell_type": "code",
   "execution_count": 3,
   "metadata": {
    "collapsed": true
   },
   "outputs": [],
   "source": [
    "def assertRuns(*args, **kwargs):\n",
    "    kwargs.setdefault('quiet', True)\n",
    "    \n",
    "    message = kwargs.pop('msg')\n",
    "    with fapi.settings(warn_only=True):\n",
    "        result = fapi.run(*args, **kwargs)\n",
    "    if result.failed:\n",
    "        raise AssertionError(\"{}\\n---\\noutput:\\n{}\".format(message, result))"
   ]
  },
  {
   "cell_type": "code",
   "execution_count": 4,
   "metadata": {
    "collapsed": false
   },
   "outputs": [],
   "source": [
    "with fapi.settings(user='cc', host_string=host):\n",
    "    assertRuns('cc-checks --help', msg=\"cc-checks wasn't found/help not working\")\n",
    "    assertRuns('sudo cc-checks', msg=\"cc-checks doesn't run\")\n",
    "    assertRuns('cc-snapshot -h', msg=\"cc-snapshot wasn't found/help not working\")\n",
    "    assertRuns('etrace2 sleep 0.1', msg=\"etrace2 not working\")"
   ]
  },
  {
   "cell_type": "code",
   "execution_count": 5,
   "metadata": {
    "collapsed": false
   },
   "outputs": [],
   "source": [
    "with fapi.settings(user='cc', host_string=host):\n",
    "    assertRuns('nvidia-smi', msg=\"nvidia-smi not working\")"
   ]
  },
  {
   "cell_type": "code",
   "execution_count": 13,
   "metadata": {
    "collapsed": false
   },
   "outputs": [],
   "source": [
    "import subprocess\n",
    "\n",
    "cmd = ('ssh tacc \"ssh -i .ssh/ccadmin '\n",
    "                     '-o StrictHostKeyChecking=no '\n",
    "                     '-o UserKnownHostsFile=/dev/null '\n",
    "                     'ccadmin@{} whoami\"').format(host)\n",
    "proc = subprocess.run(cmd, shell=True, stdout=subprocess.PIPE, universal_newlines=True)\n",
    "assert proc.returncode == 0\n",
    "assert proc.stdout.strip() == 'ccadmin'"
   ]
  },
  {
   "cell_type": "code",
   "execution_count": null,
   "metadata": {
    "collapsed": false
   },
   "outputs": [],
   "source": [
    "with fapi.settings(user='root', host_string='tacc', use_ssh_config=True):\n",
    "    fapi.run(('ssh -i .ssh/ccadmin '\n",
    "              '-o StrictHostKeyChecking=no '\n",
    "              '-o UserKnownHostsFile=/dev/null '\n",
    "              'ccadmin@{} '\n",
    "              'whoami').format(host))"
   ]
  },
  {
   "cell_type": "code",
   "execution_count": null,
   "metadata": {
    "collapsed": true
   },
   "outputs": [],
   "source": []
  }
 ],
 "metadata": {
  "kernelspec": {
   "display_name": "OS Clients (3.6)",
   "language": "python",
   "name": "os36"
  },
  "language_info": {
   "codemirror_mode": {
    "name": "ipython",
    "version": 3
   },
   "file_extension": ".py",
   "mimetype": "text/x-python",
   "name": "python",
   "nbconvert_exporter": "python",
   "pygments_lexer": "ipython3",
   "version": "3.6.1"
  }
 },
 "nbformat": 4,
 "nbformat_minor": 2
}
